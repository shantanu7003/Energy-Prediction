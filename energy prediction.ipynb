{
 "cells": [
  {
   "cell_type": "code",
   "execution_count": 1,
   "id": "0416adfb",
   "metadata": {},
   "outputs": [],
   "source": [
    "import pandas as pd\n",
    "import matplotlib.pyplot as plt\n",
    "import seaborn as sns\n",
    "import numpy as np\n",
    "import warnings\n",
    "warnings.filterwarnings(\"ignore\")"
   ]
  },
  {
   "cell_type": "markdown",
   "id": "d205f396",
   "metadata": {},
   "source": [
    "Loading Data"
   ]
  },
  {
   "cell_type": "code",
   "execution_count": null,
   "id": "323bc5d4",
   "metadata": {},
   "outputs": [],
   "source": [
    "train=pd.read_csv('/content/drive/MyDrive/internship/vpods/ASHRAE/train.csv')\n",
    "test=pd.read_csv('/content/drive/MyDrive/internship/vpods/ASHRAE/test.csv')\n",
    "building=pd.read_csv('/content/drive/MyDrive/internship/vpods/ASHRAE/building_metadata.csv')\n",
    "weather_train=pd.read_csv('/content/drive/MyDrive/internship/vpods/ASHRAE/weather_train.csv')\n",
    "weather_test=pd.read_csv('/content/drive/MyDrive/internship/vpods/ASHRAE/weather_test.csv')"
   ]
  },
  {
   "cell_type": "markdown",
   "id": "14575a08",
   "metadata": {},
   "source": [
    "Merging Dataframes"
   ]
  },
  {
   "cell_type": "code",
   "execution_count": null,
   "id": "46d2b3cf",
   "metadata": {},
   "outputs": [],
   "source": [
    "#mergind dataframe\n",
    "building_train=pd.merge(building,train,how='inner',on='building_id')\n",
    "building_train.dropna(inplace=True)\n",
    "weather_train.dropna(inplace=True)\n",
    "building_train_weather=pd.merge(building_train,weather_train,how='inner',on=['site_id','timestamp'])"
   ]
  },
  {
   "cell_type": "markdown",
   "id": "5f55b7e0",
   "metadata": {},
   "source": [
    "Aggregrate Values"
   ]
  },
  {
   "cell_type": "code",
   "execution_count": null,
   "id": "8353cf2c",
   "metadata": {},
   "outputs": [],
   "source": [
    "def agg_values(df,cols):\n",
    "    for col in cols:\n",
    "        agg_dict.append({'feature':col,'max':df[col].max(),'min':df[col].min(),'mean':df[col].mean(),'median':df[col].median(),'mode':df[col].mode(),'var':df[col].var(),\n",
    "                    })\n",
    "    return agg_dict"
   ]
  },
  {
   "cell_type": "code",
   "execution_count": null,
   "id": "166929fd",
   "metadata": {},
   "outputs": [],
   "source": [
    "cols=[  'square_feet', 'year_built',\n",
    "       'floor_count', 'meter', 'meter_reading', 'air_temperature',\n",
    "       'cloud_coverage', 'dew_temperature', 'precip_depth_1_hr',\n",
    "       'sea_level_pressure', 'wind_direction', 'wind_speed']\n",
    "agg_dict=[]\n",
    "agg_dict=agg_values(df,cols)"
   ]
  },
  {
   "cell_type": "markdown",
   "id": "1258ff87",
   "metadata": {},
   "source": [
    "Feature engineering"
   ]
  },
  {
   "cell_type": "code",
   "execution_count": null,
   "id": "2380a50e",
   "metadata": {},
   "outputs": [],
   "source": [
    "#detecting outliers\n",
    "import numpy as np\n",
    "def remove_outliers(df,col):\n",
    "    q1=df[col].quantile(0.25)\n",
    "    q3=df[col].quantile(0.75)\n",
    "    IQR=q3-q1\n",
    "    lower_bound=q1-1.5*IQR\n",
    "    upper_bound=q3+1.5*IQR\n",
    "    df[col]=np.clip(df[col],lower_bound,upper_bound)\n",
    "    return df\n",
    "\n",
    "def out_all(df,col_list):\n",
    "    for c in col_list:\n",
    "        df=remove_outliers(df,c)\n",
    "    return df\n",
    "\n",
    "\n",
    "#label encoding\n",
    "from sklearn.preprocessing import LabelEncoder\n",
    "le=LabelEncoder()\n",
    "data['primary_use']=le.fit_transform(data['primary_use'])\n",
    "print(le.classes_)\n",
    "\n",
    "cols=[ 'primary_use', 'square_feet', \n",
    "       'floor_count',  'meter_reading', 'air_temperature',\n",
    "       'cloud_coverage', 'dew_temperature', 'precip_depth_1_hr',\n",
    "       'sea_level_pressure',  'wind_speed']\n",
    "data=out_all(data,cols)\n",
    "data.plot(kind='box',subplots=True,layout=(7,3),figsize=(16,20))\n",
    "\n",
    "cols=[ 'primary_use', 'square_feet', \n",
    "       'floor_count',  'meter_reading', 'air_temperature',\n",
    "       'cloud_coverage', 'dew_temperature', 'precip_depth_1_hr',\n",
    "       'sea_level_pressure',  'wind_speed']\n",
    "data=out_all(data,cols)\n",
    "data.plot(kind='box',subplots=True,layout=(7,3),figsize=(16,20))\n",
    "\n",
    "from sklearn.preprocessing import StandardScaler\n",
    "\n",
    "scaler_train=StandardScaler()\n",
    "X_train=scaler_train.fit_transform(X_train)\n",
    "scaler_test=StandardScaler()\n",
    "X_test=scaler_test.fit_transform(X_test)\n",
    "\n",
    "\n",
    "colm=data.drop(['timestamp','meter_reading'],axis=1).columns\n",
    "X_train=pd.DataFrame(X_train)\n",
    "X_train.columns=colm\n",
    "X_test=pd.DataFrame(X_test)\n",
    "X_test.columns=colm"
   ]
  },
  {
   "cell_type": "markdown",
   "id": "55421f25",
   "metadata": {},
   "source": [
    "feature selection"
   ]
  },
  {
   "cell_type": "code",
   "execution_count": null,
   "id": "e3aaac64",
   "metadata": {},
   "outputs": [],
   "source": [
    "#random forest feature importance\n",
    "from sklearn.ensemble import RandomForestRegressor\n",
    "rf = RandomForestRegressor(n_estimators=150)\n",
    "rf.fit(X_train, y_train)\n",
    "sort = rf.feature_importances_.argsort()\n",
    "rf.feature_importances_[sort]\n",
    "plt.figure(figsize=(20,5))\n",
    "sns.barplot(X_train.columns[sort],rf.feature_importances_[sort])\n",
    "plt.plot()\n",
    "\n",
    "#mutual information regression\n",
    "from sklearn.feature_selection import mutual_info_regression\n",
    "\n",
    "mutual_info=mutual_info_regression(X_train,y_train)\n",
    "mutual_info=pd.Series(mutual_info)\n",
    "mutual_info.index=X_train.columns\n",
    "mutual_info.sort_values(ascending=False).plot.bar(figsize=(15,5))\n",
    "\n",
    "#f_regression\n",
    "from sklearn.feature_selection import f_regression\n",
    "f_r=f_regression(X_train,y_train)\n",
    "f_r=pd.Series(f_r[0])\n",
    "f_r.index=X_train.columns\n",
    "f_r.sort_index(ascending=False).plot.bar(figsize=(15,5))\n",
    "plt.title(\"f_score\")\n",
    "\n",
    "pv=f_regression(X_train,y_train)\n",
    "pv=pd.Series(pv[1])\n",
    "pv.index=X_train.columns\n",
    "pv.sort_index(ascending=False).plot.bar(figsize=(15,5))\n",
    "plt.title(\"p_value\")\n",
    "\n",
    "\n",
    "#selected features\n",
    "features_selected=[ 'building_id', 'primary_use', 'square_feet', 'year_built',\n",
    "       'floor_count', 'air_temperature', \n",
    "       'dew_temperature',  'sea_level_pressure',\n",
    "       'wind_direction', 'wind_speed']\n",
    "\n",
    "X_train=X_train[features_selected]\n",
    "X_test=X_test[features_selected]\n",
    "\n"
   ]
  },
  {
   "cell_type": "markdown",
   "id": "b220e890",
   "metadata": {},
   "source": [
    "model building"
   ]
  },
  {
   "cell_type": "code",
   "execution_count": null,
   "id": "8da6619f",
   "metadata": {},
   "outputs": [],
   "source": [
    "from sklearn.ensemble import RandomForestRegressor\n",
    "def random_forest_model(X_train,X_test,y_train,y_test):\n",
    "    \n",
    "    rfr = RandomForestRegressor(criterion= 'squared_error', max_features= 'log2',n_estimators = 80)\n",
    "    rfr.fit(X_train,y_train)\n",
    "    y_pred=rfr.predict(X_test)\n",
    "    return y_pred\n"
   ]
  }
 ],
 "metadata": {
  "kernelspec": {
   "display_name": "Python 3 (ipykernel)",
   "language": "python",
   "name": "python3"
  },
  "language_info": {
   "codemirror_mode": {
    "name": "ipython",
    "version": 3
   },
   "file_extension": ".py",
   "mimetype": "text/x-python",
   "name": "python",
   "nbconvert_exporter": "python",
   "pygments_lexer": "ipython3",
   "version": "3.9.12"
  }
 },
 "nbformat": 4,
 "nbformat_minor": 5
}
